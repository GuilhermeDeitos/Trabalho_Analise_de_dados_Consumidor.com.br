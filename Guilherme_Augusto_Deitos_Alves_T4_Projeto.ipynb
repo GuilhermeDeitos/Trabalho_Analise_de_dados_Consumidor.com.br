{
  "nbformat": 4,
  "nbformat_minor": 0,
  "metadata": {
    "kernelspec": {
      "display_name": "Python 3",
      "language": "python",
      "name": "python3"
    },
    "language_info": {
      "codemirror_mode": {
        "name": "ipython",
        "version": 3
      },
      "file_extension": ".py",
      "mimetype": "text/x-python",
      "name": "python",
      "nbconvert_exporter": "python",
      "pygments_lexer": "ipython3",
      "version": "3.6.8"
    },
    "colab": {
      "name": "Guilherme Augusto Deitos Alves - T4 - Projeto.ipynb",
      "provenance": []
    }
  },
  "cells": [
    {
      "cell_type": "markdown",
      "metadata": {
        "id": "1Ytf6fQuDoBL"
      },
      "source": [
        "# Trabalho 4 - Tópicos Especiais em Informática\n",
        "\n",
        "Título: **Analise da base de dados do site \"Consumidor.gov.br\"**\n",
        "\n",
        "## Dados do curso\n",
        "- Curso: Técnico em Informática\n",
        "- Disciplina: Tópicos Especiais em Informatica\n",
        "- Ano: 2021\n",
        "- Professor: Darlon Vasata\n",
        "\n",
        "## Dados do aluno\n",
        "- Nome: Guilherme Augusto Deitos Alves"
      ]
    },
    {
      "cell_type": "markdown",
      "metadata": {
        "id": "3WhlmD4-DoBM"
      },
      "source": [
        "# Introdução"
      ]
    },
    {
      "cell_type": "markdown",
      "metadata": {
        "id": "MbENmqDcDoBN"
      },
      "source": [
        "\n",
        "Meu objetivo com este trabalho é analisar a base que contém dados das Reclamações do site Consumidor.gov.br. Nesse site temos dados passados pelos Procons e pela Secretaria Nacional do Consumidor do Ministério da Justiça.\n",
        "\n",
        "Foi selecionado os dados mais atuais, contendo as reclamações e sua separação por plataforma, genero, estado e etc."
      ]
    },
    {
      "cell_type": "markdown",
      "metadata": {
        "id": "sKEBLKI9DoBO"
      },
      "source": [
        "# Objetivos"
      ]
    },
    {
      "cell_type": "markdown",
      "metadata": {
        "id": "DnwsJNUCDoBP"
      },
      "source": [
        "\n",
        "O objetivo deste trabalho é analisar a quantidade re reclamações por dispositivos, vendo qual o meio de reclamação mais utilizado.\n",
        "\n",
        "Além disso também visualizar a quantidade de reclamações por genero e por estado, assim analisando os estados e generos com mais ou menos reclamações."
      ]
    },
    {
      "cell_type": "markdown",
      "metadata": {
        "id": "dOxLGdyDDoBQ"
      },
      "source": [
        "# Materiais e métodos"
      ]
    },
    {
      "cell_type": "markdown",
      "metadata": {
        "id": "iI-bblxbDoBR"
      },
      "source": [
        "\n",
        "\n",
        "Foram utilizadas as seguintes ferramentas:\n",
        "\n",
        "\n",
        "*   Linguagem de programação Python\n",
        "    * Bibliotecas importadas:\n",
        "      * Pandas\n",
        "      * GeoPandas\n",
        "      * MatPlotLib\n",
        "      * Seaborn\n",
        "      * GeoBR\n",
        "*   Google Colaboratory\n",
        "*   Base de dados do site Consumidor.gov.br\n",
        "\n",
        "\n"
      ]
    },
    {
      "cell_type": "markdown",
      "metadata": {
        "id": "Xq8HwugtDoBS"
      },
      "source": [
        "# Desenvolvimento"
      ]
    },
    {
      "cell_type": "code",
      "metadata": {
        "colab": {
          "base_uri": "https://localhost:8080/"
        },
        "id": "Rv-0oqcU7oS_",
        "outputId": "f6400918-26e8-4926-a1d2-75d2d0544024"
      },
      "source": [
        "%%bash\n",
        "#Instalação das bibliotecas\n",
        "pip3 install geopandas\n",
        "pip3 install geobr\n"
      ],
      "execution_count": null,
      "outputs": [
        {
          "output_type": "stream",
          "name": "stdout",
          "text": [
            "Collecting geopandas\n",
            "  Downloading geopandas-0.10.2-py2.py3-none-any.whl (1.0 MB)\n",
            "Collecting pyproj>=2.2.0\n",
            "  Downloading pyproj-3.2.1-cp37-cp37m-manylinux2010_x86_64.whl (6.3 MB)\n",
            "Requirement already satisfied: pandas>=0.25.0 in /usr/local/lib/python3.7/dist-packages (from geopandas) (1.1.5)\n",
            "Requirement already satisfied: shapely>=1.6 in /usr/local/lib/python3.7/dist-packages (from geopandas) (1.8.0)\n",
            "Collecting fiona>=1.8\n",
            "  Downloading Fiona-1.8.20-cp37-cp37m-manylinux1_x86_64.whl (15.4 MB)\n",
            "Requirement already satisfied: attrs>=17 in /usr/local/lib/python3.7/dist-packages (from fiona>=1.8->geopandas) (21.2.0)\n",
            "Requirement already satisfied: certifi in /usr/local/lib/python3.7/dist-packages (from fiona>=1.8->geopandas) (2021.10.8)\n",
            "Requirement already satisfied: setuptools in /usr/local/lib/python3.7/dist-packages (from fiona>=1.8->geopandas) (57.4.0)\n",
            "Collecting cligj>=0.5\n",
            "  Downloading cligj-0.7.2-py3-none-any.whl (7.1 kB)\n",
            "Requirement already satisfied: click>=4.0 in /usr/local/lib/python3.7/dist-packages (from fiona>=1.8->geopandas) (7.1.2)\n",
            "Collecting click-plugins>=1.0\n",
            "  Downloading click_plugins-1.1.1-py2.py3-none-any.whl (7.5 kB)\n",
            "Collecting munch\n",
            "  Downloading munch-2.5.0-py2.py3-none-any.whl (10 kB)\n",
            "Requirement already satisfied: six>=1.7 in /usr/local/lib/python3.7/dist-packages (from fiona>=1.8->geopandas) (1.15.0)\n",
            "Requirement already satisfied: numpy>=1.15.4 in /usr/local/lib/python3.7/dist-packages (from pandas>=0.25.0->geopandas) (1.19.5)\n",
            "Requirement already satisfied: python-dateutil>=2.7.3 in /usr/local/lib/python3.7/dist-packages (from pandas>=0.25.0->geopandas) (2.8.2)\n",
            "Requirement already satisfied: pytz>=2017.2 in /usr/local/lib/python3.7/dist-packages (from pandas>=0.25.0->geopandas) (2018.9)\n",
            "Installing collected packages: munch, cligj, click-plugins, pyproj, fiona, geopandas\n",
            "Successfully installed click-plugins-1.1.1 cligj-0.7.2 fiona-1.8.20 geopandas-0.10.2 munch-2.5.0 pyproj-3.2.1\n",
            "Collecting geobr\n",
            "  Downloading geobr-0.1.10-py2.py3-none-any.whl (33 kB)\n",
            "Collecting geopandas<0.8.0,>=0.7.0\n",
            "  Downloading geopandas-0.7.0-py2.py3-none-any.whl (928 kB)\n",
            "Requirement already satisfied: shapely<2.0.0,>=1.7.0 in /usr/local/lib/python3.7/dist-packages (from geobr) (1.8.0)\n",
            "Requirement already satisfied: fiona in /usr/local/lib/python3.7/dist-packages (from geopandas<0.8.0,>=0.7.0->geobr) (1.8.20)\n",
            "Requirement already satisfied: pyproj>=2.2.0 in /usr/local/lib/python3.7/dist-packages (from geopandas<0.8.0,>=0.7.0->geobr) (3.2.1)\n",
            "Requirement already satisfied: pandas>=0.23.0 in /usr/local/lib/python3.7/dist-packages (from geopandas<0.8.0,>=0.7.0->geobr) (1.1.5)\n",
            "Requirement already satisfied: numpy>=1.15.4 in /usr/local/lib/python3.7/dist-packages (from pandas>=0.23.0->geopandas<0.8.0,>=0.7.0->geobr) (1.19.5)\n",
            "Requirement already satisfied: pytz>=2017.2 in /usr/local/lib/python3.7/dist-packages (from pandas>=0.23.0->geopandas<0.8.0,>=0.7.0->geobr) (2018.9)\n",
            "Requirement already satisfied: python-dateutil>=2.7.3 in /usr/local/lib/python3.7/dist-packages (from pandas>=0.23.0->geopandas<0.8.0,>=0.7.0->geobr) (2.8.2)\n",
            "Requirement already satisfied: certifi in /usr/local/lib/python3.7/dist-packages (from pyproj>=2.2.0->geopandas<0.8.0,>=0.7.0->geobr) (2021.10.8)\n",
            "Requirement already satisfied: six>=1.5 in /usr/local/lib/python3.7/dist-packages (from python-dateutil>=2.7.3->pandas>=0.23.0->geopandas<0.8.0,>=0.7.0->geobr) (1.15.0)\n",
            "Requirement already satisfied: cligj>=0.5 in /usr/local/lib/python3.7/dist-packages (from fiona->geopandas<0.8.0,>=0.7.0->geobr) (0.7.2)\n",
            "Requirement already satisfied: munch in /usr/local/lib/python3.7/dist-packages (from fiona->geopandas<0.8.0,>=0.7.0->geobr) (2.5.0)\n",
            "Requirement already satisfied: setuptools in /usr/local/lib/python3.7/dist-packages (from fiona->geopandas<0.8.0,>=0.7.0->geobr) (57.4.0)\n",
            "Requirement already satisfied: click-plugins>=1.0 in /usr/local/lib/python3.7/dist-packages (from fiona->geopandas<0.8.0,>=0.7.0->geobr) (1.1.1)\n",
            "Requirement already satisfied: attrs>=17 in /usr/local/lib/python3.7/dist-packages (from fiona->geopandas<0.8.0,>=0.7.0->geobr) (21.2.0)\n",
            "Requirement already satisfied: click>=4.0 in /usr/local/lib/python3.7/dist-packages (from fiona->geopandas<0.8.0,>=0.7.0->geobr) (7.1.2)\n",
            "Installing collected packages: geopandas, geobr\n",
            "  Attempting uninstall: geopandas\n",
            "    Found existing installation: geopandas 0.10.2\n",
            "    Uninstalling geopandas-0.10.2:\n",
            "      Successfully uninstalled geopandas-0.10.2\n",
            "Successfully installed geobr-0.1.10 geopandas-0.7.0\n"
          ]
        }
      ]
    },
    {
      "cell_type": "code",
      "metadata": {
        "id": "C-5LPokkAZWr"
      },
      "source": [
        "#Bibliotecas\n",
        "\n",
        "import matplotlib.pyplot as plt\n",
        "import seaborn as sns\n",
        "%matplotlib inline\n",
        "import geopandas as gpd\n",
        "import geobr \n",
        "import pandas as pd\n"
      ],
      "execution_count": null,
      "outputs": []
    },
    {
      "cell_type": "code",
      "metadata": {
        "id": "UvtgagyODoBU",
        "colab": {
          "base_uri": "https://localhost:8080/"
        },
        "outputId": "a99e1761-450b-4ffd-ea7c-b3436e5163b2"
      },
      "source": [
        "\n",
        "from google.colab import drive\n",
        "\n",
        "drive.mount('/drive')\n",
        "df = pd.read_csv('/drive/MyDrive/ProjetoTEI/dadosConsumidor2021.csv', sep=';', encoding='utf-8')\n"
      ],
      "execution_count": null,
      "outputs": [
        {
          "output_type": "stream",
          "name": "stdout",
          "text": [
            "Mounted at /drive\n"
          ]
        }
      ]
    },
    {
      "cell_type": "code",
      "metadata": {
        "id": "bvwyaA8XLEkq"
      },
      "source": [
        "plataforma = df['Canal de Origem'].value_counts()\n",
        "plataformaIndex = plataforma.index"
      ],
      "execution_count": null,
      "outputs": []
    },
    {
      "cell_type": "code",
      "metadata": {
        "id": "u2Oydx03DoBY"
      },
      "source": [
        "reclamacoesPorSexo = df['Sexo'].value_counts()\n",
        "index_ReclamacoesPorSexo = reclamacoesPorSexo.index"
      ],
      "execution_count": null,
      "outputs": []
    },
    {
      "cell_type": "code",
      "metadata": {
        "id": "YNh0oFN1PQRK"
      },
      "source": [
        "gdfEstados = geobr.read_state()"
      ],
      "execution_count": null,
      "outputs": []
    },
    {
      "cell_type": "code",
      "metadata": {
        "id": "3yi0bFgXPf_L"
      },
      "source": [
        "gdfEstados['Reclamacoes_Estado'] = 0\n",
        "\n",
        "reclamacoesPorEstado = df['UF'].value_counts()\n",
        "\n",
        "for UF in reclamacoesPorEstado.index:\n",
        "  gdfEstados.loc[gdfEstados['abbrev_state'] == UF, 'Reclamacoes_Estado'] = reclamacoesPorEstado[UF]\n"
      ],
      "execution_count": null,
      "outputs": []
    },
    {
      "cell_type": "markdown",
      "metadata": {
        "id": "S0mfdDnPDoBh"
      },
      "source": [
        "# Resultados e discussões"
      ]
    },
    {
      "cell_type": "markdown",
      "metadata": {
        "id": "5hOvCAyGDoBi"
      },
      "source": [
        "*Incluir aqui os resultados obtidos, e suas explicações. Gráficos sobre os resultados obtidos podem ser colocados aqui. Também podem ser incluídas células com códigos que geram gráficos, p.ex.*"
      ]
    },
    {
      "cell_type": "code",
      "metadata": {
        "colab": {
          "base_uri": "https://localhost:8080/",
          "height": 374
        },
        "id": "DiHYsVzpPNBu",
        "outputId": "f497763a-352d-4abc-8133-0f8e2279c64a"
      },
      "source": [
        "plt.figure(figsize=(6,6))\n",
        "plt.pie(plataforma,startangle=70,colors=[\"#87cefa\",\"#f08080\",\"#000000\"],autopct=\"%1.2f%%\",explode=(0,0,0.1))\n",
        "plt.legend(plataformaIndex,title=\"Plataformas\")"
      ],
      "execution_count": null,
      "outputs": [
        {
          "output_type": "execute_result",
          "data": {
            "text/plain": [
              "<matplotlib.legend.Legend at 0x7fe0fa86e150>"
            ]
          },
          "metadata": {},
          "execution_count": 35
        },
        {
          "output_type": "display_data",
          "data": {
            "image/png": "[encoded data removed]",
            "text/plain": [
              "<Figure size 432x432 with 1 Axes>"
            ]
          },
          "metadata": {}
        }
      ]
    },
    {
      "cell_type": "markdown",
      "metadata": {
        "id": "X5pT0ZgKQKLv"
      },
      "source": [
        "Conseguimos observar que a grande maioria das reclamações vêm da plataforma Web, tendo como valor 99.24%.\n"
      ]
    },
    {
      "cell_type": "code",
      "metadata": {
        "colab": {
          "base_uri": "https://localhost:8080/",
          "height": 336
        },
        "id": "u1inYu-KPHgy",
        "outputId": "5a5036fa-5e47-4a15-a58f-b3eac488753c"
      },
      "source": [
        "sns.barplot(index_ReclamacoesPorSexo,reclamacoesPorSexo,palette=\"Set3\")"
      ],
      "execution_count": null,
      "outputs": [
        {
          "output_type": "stream",
          "name": "stderr",
          "text": [
            "/usr/local/lib/python3.7/dist-packages/seaborn/_decorators.py:43: FutureWarning: Pass the following variables as keyword args: x, y. From version 0.12, the only valid positional argument will be `data`, and passing other arguments without an explicit keyword will result in an error or misinterpretation.\n",
            "  FutureWarning\n"
          ]
        },
        {
          "output_type": "execute_result",
          "data": {
            "text/plain": [
              "<matplotlib.axes._subplots.AxesSubplot at 0x7fe0facca610>"
            ]
          },
          "metadata": {},
          "execution_count": 36
        },
        {
          "output_type": "display_data",
          "data": {
            "image/png": "[encoded data removed]",
            "text/plain": [
              "<Figure size 432x288 with 1 Axes>"
            ]
          },
          "metadata": {
            "needs_background": "light"
          }
        }
      ]
    },
    {
      "cell_type": "markdown",
      "metadata": {
        "id": "W-LshUNDRpAu"
      },
      "source": [
        "Acima temos a quantidade de reclamações, separadas pelo sexo masculino, feminino e outros.\n",
        "É possível ver que o sexo masculino é o com mais reclamações, com cerca de 10 mil a mais que as feitas pelo sexo feminino."
      ]
    },
    {
      "cell_type": "code",
      "metadata": {
        "colab": {
          "base_uri": "https://localhost:8080/",
          "height": 713
        },
        "id": "KZDH2Cc_PA02",
        "outputId": "87f0a1d1-3d50-4805-d02c-fcb29f81995b"
      },
      "source": [
        "gdfEstados.plot(column='Reclamacoes_Estado',cmap='viridis',legend=True,figsize=(10,10))"
      ],
      "execution_count": null,
      "outputs": [
        {
          "output_type": "stream",
          "name": "stderr",
          "text": [
            "/usr/local/lib/python3.7/dist-packages/geopandas/plotting.py:33: ShapelyDeprecationWarning: Iteration over multi-part geometries is deprecated and will be removed in Shapely 2.0. Use the `geoms` property to access the constituent parts of a multi-part geometry.\n",
            "  for poly in geom:\n",
            "/usr/local/lib/python3.7/dist-packages/descartes/patch.py:65: ShapelyDeprecationWarning: The array interface is deprecated and will no longer work in Shapely 2.0. Convert the '.coords' to a numpy array instead.\n",
            "  for t in polygon])\n",
            "/usr/local/lib/python3.7/dist-packages/descartes/patch.py:64: ShapelyDeprecationWarning: The array interface is deprecated and will no longer work in Shapely 2.0. Convert the '.coords' to a numpy array instead.\n",
            "  [asarray(r)[:, :2] for r in t.interiors])\n"
          ]
        },
        {
          "output_type": "execute_result",
          "data": {
            "text/plain": [
              "<matplotlib.axes._subplots.AxesSubplot at 0x7fe0fadeb1d0>"
            ]
          },
          "metadata": {},
          "execution_count": 24
        },
        {
          "output_type": "display_data",
          "data": {
            "image/png": "[encoded data removed]",
            "text/plain": [
              "<Figure size 720x720 with 2 Axes>"
            ]
          },
          "metadata": {
            "needs_background": "light"
          }
        }
      ]
    },
    {
      "cell_type": "markdown",
      "metadata": {
        "id": "hQ3hwehFSB14"
      },
      "source": [
        "O mapa de calor nos faz perceber que grande parte das reclamações estão na região  Sul e Sudeste, tendo como estado com maior numero de reclamações São Paulo."
      ]
    },
    {
      "cell_type": "markdown",
      "metadata": {
        "id": "JSe-l9NQDoBk"
      },
      "source": [
        "# Conclusão"
      ]
    },
    {
      "cell_type": "markdown",
      "metadata": {
        "id": "BRrn1-eUDoBk"
      },
      "source": [
        "Com os graficos e imagens apresentados pode ser concluido que os  indivíduos do Sexo masculino são os que mais utilizam a plataforma \"Consumidor.gov.br\" e que esta mesma plataforma tem uma extrema predominancia na plataforma Web.\n",
        "\n",
        "Ademais, podemos concluir que a região Sul e Sudeste são as com maior numero de reclamações devido ao grande capital que circula por lá. Como é notado, São paulo é maior nesse indice e também é a maior cidade do Brasil, tanto em população, como em circulação de dinheiro e produtos."
      ]
    },
    {
      "cell_type": "markdown",
      "metadata": {
        "id": "LFLn-sfGDoBm"
      },
      "source": [
        "# Referências"
      ]
    },
    {
      "cell_type": "markdown",
      "metadata": {
        "id": "SFC-DlkkDoBm"
      },
      "source": [
        "*Incluir aqui as referências bibliográficas. Utilizar links para os materiais e utilizar as normas para referências da ABNT.*\n",
        "\n",
        "[*Documentação da Biblioteca Matplotlib*](https://matplotlib.org/)  \n",
        "[*Pandas, Guia do Usuario*](https://pandas.pydata.org/docs/user_guide/index.html)  \n",
        "[*Python - Our Documentation*](https://www.python.org/doc/)  \n",
        "[*Geopandas - User Guide*](https://geopandas.org/en/stable/docs/user_guide.html)  \n",
        "[*Seaborn Documentation*](https://seaborn.pydata.org)  \n",
        "[*Pereira, R.H.M.; Gonçalves, C.N.; et. all (2019) geobr: Loads Shapefiles of Official Spatial Data Sets of Brazil. GitHub repository - https://github.com/ipeaGIT/geobr.*](https://github.com/ipeaGIT/geobr)  \n",
        "[*Base de Dados do consumidor.gov.br*](https://dados.gov.br/dataset/reclamacoes-do-consumidor-gov-br1)  \n",
        "\n"
      ]
    }
  ]
}